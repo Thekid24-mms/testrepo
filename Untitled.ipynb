{
 "cells": [
  {
   "cell_type": "markdown",
   "id": "9372a0f2-1218-4125-9b57-aa7d61a172f2",
   "metadata": {},
   "source": [
    "# My Jupyter Notebook on IBM Watson Studio"
   ]
  },
  {
   "cell_type": "markdown",
   "id": "7f5f6b81-a6a5-4288-9eea-2748c614143d",
   "metadata": {},
   "source": [
    "**string** Miyoh Simons \n",
    "Data Scientist"
   ]
  },
  {
   "cell_type": "markdown",
   "id": "d50b3da0-4e01-4c20-a3ae-6902fce16100",
   "metadata": {},
   "source": [
    "*string* I am interested in data science because it has vast possibilities. \n",
    "There are a lot of things to still be discovered in the field."
   ]
  },
  {
   "cell_type": "markdown",
   "id": "154dee7b-73de-44f4-8961-e87733191fbd",
   "metadata": {},
   "source": [
    "### my code will be a simple greeting "
   ]
  },
  {
   "cell_type": "code",
   "execution_count": 11,
   "id": "ebb65360-5115-4dbd-ac89-ba42d041ea67",
   "metadata": {},
   "outputs": [
    {
     "name": "stdout",
     "output_type": "stream",
     "text": [
      "Hello People!\n"
     ]
    }
   ],
   "source": [
    "print('Hello People!')"
   ]
  },
  {
   "cell_type": "markdown",
   "id": "2a603cb2-2633-4798-aceb-33ba702f9879",
   "metadata": {},
   "source": [
    "This was really helpful with\n",
    "- jupyter notebooks\n",
    "- coding\n",
    "- Markdown cells\n",
    "\n",
    "It was also \n",
    "1. clear \n",
    "2. informative\n",
    "3. fun\n",
    "for more information got to href=\"https://.cloud.ibm.com/\">IBM Watson Studio"
   ]
  },
  {
   "cell_type": "code",
   "execution_count": null,
   "id": "338244f0-3fcf-4f5d-9391-af98c473accb",
   "metadata": {},
   "outputs": [],
   "source": []
  }
 ],
 "metadata": {
  "kernelspec": {
   "display_name": "Python",
   "language": "python",
   "name": "conda-env-python-py"
  },
  "language_info": {
   "codemirror_mode": {
    "name": "ipython",
    "version": 3
   },
   "file_extension": ".py",
   "mimetype": "text/x-python",
   "name": "python",
   "nbconvert_exporter": "python",
   "pygments_lexer": "ipython3",
   "version": "3.7.12"
  }
 },
 "nbformat": 4,
 "nbformat_minor": 5
}
